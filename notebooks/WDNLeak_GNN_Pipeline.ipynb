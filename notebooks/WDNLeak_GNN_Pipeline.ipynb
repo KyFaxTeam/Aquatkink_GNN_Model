{
 "cells": [
  {
   "cell_type": "code",
   "execution_count": 1,
   "metadata": {},
   "outputs": [],
   "source": [
    "# Robustly add project root to sys.path for src imports (works in Jupyter)\n",
    "import sys, os\n",
    "cwd = os.getcwd()\n",
    "if os.path.isdir(os.path.join(cwd, 'src')):\n",
    "    project_root = cwd\n",
    "elif os.path.isdir(os.path.join(os.path.dirname(cwd), 'src')):\n",
    "    project_root = os.path.dirname(cwd)\n",
    "else:\n",
    "    raise RuntimeError('Could not find src directory in current or parent directory.')\n",
    "if project_root not in sys.path:\n",
    "    sys.path.insert(0, project_root)"
   ]
  },
  {
   "cell_type": "markdown",
   "metadata": {},
   "source": [
    "# Leak Localization with GNNs: End-to-End Pipeline\n",
    "\n",
    "This notebook demonstrates the full workflow for leak localization in water distribution networks using Graph Neural Networks (GNNs). It leverages the modular codebase in the `src/` directory for data processing, model training, evaluation, and experiment management.\n",
    "\n",
    "## Table of Contents\n",
    "1. [Project Overview](#overview)\n",
    "2. [Environment Setup](#setup)\n",
    "3. [Data Inspection](#data)\n",
    "4. [Data Processing (Optional)](#processing)\n",
    "5. [Train/Validation/Test Split](#split)\n",
    "6. [Model Training](#training)\n",
    "7. [Evaluation & Metrics](#evaluation)\n",
    "8. [Experiment Management](#experiments)\n",
    "9. [Top Experiments](#top)\n",
    "\n",
    "---"
   ]
  },
  {
   "cell_type": "markdown",
   "metadata": {},
   "source": [
    "## 1. Project Overview <a id='overview'></a>\n",
    "\n",
    "This project aims to localize leaks in water distribution networks using GNNs. The pipeline includes:\n",
    "- Synthetic scenario generation (hydraulic simulation)\n",
    "- Data processing and feature engineering\n",
    "- GNN model definition and training\n",
    "- Evaluation and experiment tracking\n",
    "\n",
    "All core logic is implemented in the `src/` directory for reproducibility and modularity."
   ]
  },
  {
   "cell_type": "markdown",
   "metadata": {},
   "source": [
    "## 2. Environment Setup <a id='setup'></a>\n",
    "\n",
    "Install required packages (if not already installed):"
   ]
  },
  {
   "cell_type": "code",
   "execution_count": 2,
   "metadata": {},
   "outputs": [],
   "source": [
    "# !pip install torch torch-geometric h5py wntr scikit-learn pandas tqdm tensorboard"
   ]
  },
  {
   "cell_type": "code",
   "execution_count": 3,
   "metadata": {},
   "outputs": [],
   "source": [
    "import numpy as np\n",
    "\n",
    "import pandas as pd"
   ]
  },
  {
   "cell_type": "markdown",
   "metadata": {},
   "source": [
    "## 3. Data Inspection <a id='data'></a>\n",
    "\n",
    "Let's inspect the processed dataset and visualize a sample."
   ]
  },
  {
   "cell_type": "code",
   "execution_count": 4,
   "metadata": {},
   "outputs": [
    {
     "name": "stderr",
     "output_type": "stream",
     "text": [
      "C:\\Users\\JOSAPHAT\\AppData\\Roaming\\Python\\Python312\\site-packages\\torch\\utils\\_pytree.py:185: FutureWarning: optree is installed but the version is too old to support PyTorch Dynamo in C++ pytree. C++ pytree support is disabled. Please consider upgrading optree using `python3 -m pip install --upgrade 'optree>=0.13.0'`.\n",
      "  warnings.warn(\n"
     ]
    },
    {
     "name": "stdout",
     "output_type": "stream",
     "text": [
      "Dataset size: 1200\n",
      "Sample 0:\n",
      "Data(x=[97, 26], edge_index=[2, 238], edge_attr=[238, 4], y=[238], num_nodes=97)\n",
      "  Node features (x) shape: torch.Size([97, 26])\n",
      "  Edge index shape: torch.Size([2, 238])\n",
      "  Edge attributes (edge_attr) shape: torch.Size([238, 4])\n",
      "  Labels (y) shape: torch.Size([238])\n",
      "[OK] edge_index and edge_attr dimensions match.\n",
      "[OK] edge_index and y dimensions match (assuming y is per-edge label).\n"
     ]
    },
    {
     "name": "stderr",
     "output_type": "stream",
     "text": [
      "Processing...\n",
      "Done!\n"
     ]
    }
   ],
   "source": [
    "# Load the dataset and inspect a sample\n",
    "from src.datasets import WDNLeakDataset\n",
    "from src.config import PROJECT_ROOT # Import project root\n",
    "# Assuming default paths (root='.', processed_dir='data/processed')\n",
    "# Adjust if your paths differ\n",
    "dataset = WDNLeakDataset(root=PROJECT_ROOT, processed_dir='data/processed') # Use PROJECT_ROOT\n",
    "\n",
    "if len(dataset) > 0:\n",
    "    sample = dataset[0]\n",
    "    print(f\"Dataset size: {len(dataset)}\")\n",
    "    print(f\"Sample 0:\\n{sample}\")\n",
    "    print(f\"  Node features (x) shape: {sample.x.shape}\")\n",
    "    print(f\"  Edge index shape: {sample.edge_index.shape}\")\n",
    "    print(f\"  Edge attributes (edge_attr) shape: {sample.edge_attr.shape}\")\n",
    "    print(f\"  Labels (y) shape: {sample.y.shape}\")\n",
    "\n",
    "    # Verify alignment: edge_index columns vs edge_attr rows\n",
    "    if sample.edge_index.shape[1] == sample.edge_attr.shape[0]:\n",
    "        print(\"[OK] edge_index and edge_attr dimensions match.\")\n",
    "    else:\n",
    "        print(\"[!!WARNING!!] edge_index and edge_attr dimensions MISMATCH!\")\n",
    "\n",
    "    # Verify alignment: edge_index columns vs y rows (if y is per-edge)\n",
    "    # Note: This assumes y represents edge labels. Adjust if y represents node or graph labels.\n",
    "    if sample.y.ndim == 1 and sample.edge_index.shape[1] == sample.y.shape[0]:\n",
    "        print(\"[OK] edge_index and y dimensions match (assuming y is per-edge label).\")\n",
    "    elif sample.y.ndim > 1 or sample.edge_index.shape[1] != sample.y.shape[0]:\n",
    "        print(f\"[INFO] edge_index ({sample.edge_index.shape[1]}) and y ({sample.y.shape}) dimensions do not match (y might not be per-edge label).\")\n",
    "else:\n",
    "    print(\"Dataset is empty or could not be loaded.\")\n",
    "    sample = None # Set sample to None if dataset is empty"
   ]
  },
  {
   "cell_type": "code",
   "execution_count": 5,
   "metadata": {},
   "outputs": [
    {
     "data": {
      "image/png": "[encoded data removed]",
      "text/plain": [
       "<Figure size 1000x400 with 1 Axes>"
      ]
     },
     "metadata": {},
     "output_type": "display_data"
    }
   ],
   "source": [
    "# Visualize node features (pressure diff + elevation)\n",
    "import matplotlib.pyplot as plt\n",
    "\n",
    "plt.figure(figsize=(10, 4))\n",
    "plt.plot(sample.x[:, :-1])  # All time steps (excluding elevation)\n",
    "plt.title('Pressure Difference Time Series (Sample 0)')\n",
    "plt.xlabel('Time Step')\n",
    "plt.ylabel('Pressure Difference')\n",
    "plt.show()"
   ]
  },
  {
   "cell_type": "markdown",
   "metadata": {},
   "source": [
    "## 4. Data Processing (Optional) <a id='processing'></a>\n",
    "\n",
    "If you need to process raw HDF5 scenarios into PyTorch Geometric format, run the following cell. (This is usually done once; skip if already processed.)"
   ]
  },
  {
   "cell_type": "code",
   "execution_count": 6,
   "metadata": {},
   "outputs": [],
   "source": [
    "# from src import process_data\n",
    "# process_data.main()  # Uncomment to process raw data"
   ]
  },
  {
   "cell_type": "markdown",
   "metadata": {},
   "source": [
    "## 5. Train/Validation/Test Split <a id='split'></a>\n",
    "\n",
    "Splitting is handled by `src/split_data.py`. If splits already exist, skip this step."
   ]
  },
  {
   "cell_type": "code",
   "execution_count": 7,
   "metadata": {},
   "outputs": [
    {
     "name": "stdout",
     "output_type": "stream",
     "text": [
      "Initial split: 960 train, 240 test samples\n",
      "Second split: 816 final train, 144 validation samples\n",
      "--------------------\n",
      "Saved final train indices: 816 samples to d:\\Projets\\New_soneb_work\\experiments\\splits\\train_idx.npy\n",
      "Saved validation indices: 144 samples to d:\\Projets\\New_soneb_work\\experiments\\splits\\val_idx.npy\n",
      "Saved test indices: 240 samples to d:\\Projets\\New_soneb_work\\experiments\\splits\\test_idx.npy\n",
      "--------------------\n"
     ]
    }
   ],
   "source": [
    "from src import split_data\n",
    "\n",
    "# Split data into train, validation, and test sets and save indices\\n\n",
    "train_idx, val_idx, test_idx = split_data.split_train_val_test_and_save(dataset, test_size=0.2, val_fraction=0.15)"
   ]
  },
  {
   "cell_type": "markdown",
   "metadata": {},
   "source": [
    "## 6. Model Training <a id='training'></a>\n",
    "\n",
    "Train the GNN model using the provided pipeline. This will log metrics and save the best model checkpoint."
   ]
  },
  {
   "cell_type": "code",
   "execution_count": 8,
   "metadata": {},
   "outputs": [
    {
     "name": "stdout",
     "output_type": "stream",
     "text": [
      "[Experiment Management] Assigned experiment_id: 6\n",
      "[Experiment Management] Created experiment directory: d:\\Projets\\New_soneb_work\\experiments\\6\n",
      "Config snapshot saved to d:\\Projets\\New_soneb_work\\experiments\\6\\config_snapshot.py\n",
      "Full dataset size: 1200\n",
      "Loaded 816 train indices.\n",
      "Loaded 144 validation indices.\n",
      "Max validation index: 1197\n",
      "Train subset size: 816\n",
      "Validation subset size: 144\n",
      "Starting training...\n"
     ]
    },
    {
     "name": "stderr",
     "output_type": "stream",
     "text": [
      "Processing...\n",
      "Done!\n",
      "C:\\Users\\JOSAPHAT\\AppData\\Roaming\\Python\\Python312\\site-packages\\torch\\optim\\lr_scheduler.py:62: UserWarning: The verbose parameter is deprecated. Please use get_last_lr() to access the learning rate.\n",
      "  warnings.warn(\n"
     ]
    },
    {
     "name": "stdout",
     "output_type": "stream",
     "text": [
      "Epoch 1: Train Loss=0.6084 | Val Loss=0.0176 | Val AUC-PR=0.0067\n",
      "[INFO] Saved validation predictions to d:\\Projets\\New_soneb_work\\experiments\\6\\val_pred_scores.npz\n",
      "Epoch 2: Train Loss=0.0113 | Val Loss=0.0050 | Val AUC-PR=0.0123\n",
      "[INFO] Saved validation predictions to d:\\Projets\\New_soneb_work\\experiments\\6\\val_pred_scores.npz\n",
      "Epoch 3: Train Loss=0.0058 | Val Loss=0.0042 | Val AUC-PR=0.0073\n",
      "[INFO] Saved validation predictions to d:\\Projets\\New_soneb_work\\experiments\\6\\val_pred_scores.npz\n",
      "Epoch 4: Train Loss=0.0053 | Val Loss=0.0042 | Val AUC-PR=0.0116\n",
      "[INFO] Saved validation predictions to d:\\Projets\\New_soneb_work\\experiments\\6\\val_pred_scores.npz\n",
      "Epoch 5: Train Loss=0.0052 | Val Loss=0.0042 | Val AUC-PR=0.0117\n",
      "[INFO] Saved validation predictions to d:\\Projets\\New_soneb_work\\experiments\\6\\val_pred_scores.npz\n",
      "Epoch 6: Train Loss=0.0050 | Val Loss=0.0040 | Val AUC-PR=0.0116\n",
      "[INFO] Saved validation predictions to d:\\Projets\\New_soneb_work\\experiments\\6\\val_pred_scores.npz\n",
      "Epoch 7: Train Loss=0.0050 | Val Loss=0.0040 | Val AUC-PR=0.0123\n",
      "[INFO] Saved validation predictions to d:\\Projets\\New_soneb_work\\experiments\\6\\val_pred_scores.npz\n",
      "Epoch 8: Train Loss=0.0050 | Val Loss=0.0040 | Val AUC-PR=0.0099\n",
      "[INFO] Saved validation predictions to d:\\Projets\\New_soneb_work\\experiments\\6\\val_pred_scores.npz\n",
      "Epoch 9: Train Loss=0.0049 | Val Loss=0.0040 | Val AUC-PR=0.0124\n",
      "[INFO] Saved validation predictions to d:\\Projets\\New_soneb_work\\experiments\\6\\val_pred_scores.npz\n",
      "Epoch 10: Train Loss=0.0050 | Val Loss=0.0040 | Val AUC-PR=0.0121\n",
      "[INFO] Saved validation predictions to d:\\Projets\\New_soneb_work\\experiments\\6\\val_pred_scores.npz\n",
      "Epoch 11: Train Loss=0.0049 | Val Loss=0.0044 | Val AUC-PR=0.0073\n",
      "[INFO] Saved validation predictions to d:\\Projets\\New_soneb_work\\experiments\\6\\val_pred_scores.npz\n",
      "Epoch 12: Train Loss=0.0050 | Val Loss=0.0042 | Val AUC-PR=0.0119\n",
      "[INFO] Saved validation predictions to d:\\Projets\\New_soneb_work\\experiments\\6\\val_pred_scores.npz\n",
      "Epoch 13: Train Loss=0.0050 | Val Loss=0.0040 | Val AUC-PR=0.0123\n",
      "[INFO] Saved validation predictions to d:\\Projets\\New_soneb_work\\experiments\\6\\val_pred_scores.npz\n",
      "Epoch 14: Train Loss=0.0050 | Val Loss=0.0040 | Val AUC-PR=0.0097\n",
      "[INFO] Saved validation predictions to d:\\Projets\\New_soneb_work\\experiments\\6\\val_pred_scores.npz\n",
      "Epoch 15: Train Loss=0.0049 | Val Loss=0.0040 | Val AUC-PR=0.0099\n",
      "[INFO] Saved validation predictions to d:\\Projets\\New_soneb_work\\experiments\\6\\val_pred_scores.npz\n",
      "Epoch 16: Train Loss=0.0049 | Val Loss=0.0042 | Val AUC-PR=0.0116\n",
      "[INFO] Saved validation predictions to d:\\Projets\\New_soneb_work\\experiments\\6\\val_pred_scores.npz\n",
      "Epoch 17: Train Loss=0.0050 | Val Loss=0.0040 | Val AUC-PR=0.0100\n",
      "[INFO] Saved validation predictions to d:\\Projets\\New_soneb_work\\experiments\\6\\val_pred_scores.npz\n",
      "Epoch 18: Train Loss=0.0049 | Val Loss=0.0040 | Val AUC-PR=0.0121\n",
      "[INFO] Saved validation predictions to d:\\Projets\\New_soneb_work\\experiments\\6\\val_pred_scores.npz\n",
      "Epoch 19: Train Loss=0.0049 | Val Loss=0.0040 | Val AUC-PR=0.0102\n",
      "Early stopping triggered.\n"
     ]
    }
   ],
   "source": [
    "from src import train\n",
    "\n",
    "#This will run the full training pipeline (train/val split, early stopping, logging)\n",
    "train.train_pipeline()  # Uncomment to train (can take time depending on data size)"
   ]
  },
  {
   "cell_type": "code",
   "execution_count": 9,
   "metadata": {},
   "outputs": [
    {
     "name": "stdout",
     "output_type": "stream",
     "text": [
      "Using latest experiment ID: 6\n",
      "Loading validation scores from: d:\\Projets\\New_soneb_work\\experiments\\6\\val_pred_scores.npz\n",
      "Loaded 34272 validation labels and scores.\n",
      "Number of positive labels in validation set: 234\n",
      "\n",
      "Optimal threshold based on validation F1 score: 0.0854\n",
      "Best F1 score on validation set: 0.0180\n"
     ]
    },
    {
     "data": {
      "image/png": "[encoded data removed]",
      "text/plain": [
       "<Figure size 1200x500 with 2 Axes>"
      ]
     },
     "metadata": {},
     "output_type": "display_data"
    },
    {
     "name": "stdout",
     "output_type": "stream",
     "text": [
      "Optimal threshold saved to: d:\\Projets\\New_soneb_work\\experiments\\6\\optimal_threshold.txt\n"
     ]
    }
   ],
   "source": [
    "\n",
    "\n",
    "# Cell to find optimal threshold based on validation set F1 score\n",
    "\n",
    "import numpy as np\n",
    "from sklearn.metrics import precision_recall_curve, f1_score\n",
    "from pathlib import Path\n",
    "import matplotlib.pyplot as plt\n",
    "import os # Import os for path joining\n",
    "\n",
    "# --- Configuration ---\n",
    "# Define base directory relative to the notebook location\n",
    "BASE_DIR = Path(os.getcwd()).parent # Assumes notebook is in 'notebooks' subdir\n",
    "\n",
    "# Load latest experiment_id\n",
    "experiment_id_file = BASE_DIR / \"experiments\" / \"experiment_id.txt\"\n",
    "try:\n",
    "    with open(experiment_id_file) as f:\n",
    "        experiment_id = int(f.read().strip())\n",
    "    print(f\"Using latest experiment ID: {experiment_id}\")\n",
    "except FileNotFoundError:\n",
    "    print(f\"Error: {experiment_id_file} not found. Please set experiment_id manually.\")\n",
    "    experiment_id = None # Or set a default if needed\n",
    "\n",
    "# --- Load Validation Data ---\n",
    "if experiment_id is not None:\n",
    "    # Correct path according to the new structure in src/paths.py and src/train.py\n",
    "    # The file is now named 'val_pred_scores.npz' inside the experiment directory\n",
    "    expected_path = BASE_DIR / \"experiments\" / str(experiment_id) / \"val_pred_scores.npz\"\n",
    "    val_pred_path = None\n",
    "    if expected_path.exists():\n",
    "        val_pred_path = expected_path\n",
    "        print(f\"Loading validation scores from: {val_pred_path}\")\n",
    "    else:\n",
    "         # Check the old location just in case, for backward compatibility during transition\n",
    "        old_path_1 = BASE_DIR / \"experiments\" / \"runs\" / f\"val_pred_scores_{experiment_id}.npz\" # Old log dir location\n",
    "        old_path_2 = BASE_DIR / \"experiments\" / f\"val_pred_scores_{experiment_id}.npz\" # Even older location?\n",
    "        if old_path_1.exists():\n",
    "             val_pred_path = old_path_1\n",
    "             print(f\"Loading validation scores from OLD location: {val_pred_path}\")\n",
    "        elif old_path_2.exists():\n",
    "             val_pred_path = old_path_2\n",
    "             print(f\"Loading validation scores from VERY OLD location: {val_pred_path}\")\n",
    "        else:\n",
    "            raise FileNotFoundError(f\"Validation prediction file not found for experiment {experiment_id} in expected location: {expected_path} (or older locations)\")\n",
    "\n",
    "    data = np.load(val_pred_path)\n",
    "    y_true_val = data[\"y_true\"]\n",
    "    y_score_val = data[\"y_score\"] # These are already sigmoid probabilities\n",
    "    print(f\"Loaded {len(y_true_val)} validation labels and scores.\")\n",
    "    print(f\"Number of positive labels in validation set: {int(y_true_val.sum())}\")\n",
    "else:\n",
    "    raise ValueError(\"Cannot proceed without a valid experiment_id.\")\n",
    "\n",
    "# --- Find Optimal Threshold based on F1 ---\n",
    "if int(y_true_val.sum()) > 0: # Ensure there are positive samples to calculate PR curve\n",
    "    # Calculate precision, recall, and thresholds\n",
    "    precision, recall, thresholds = precision_recall_curve(y_true_val, y_score_val)\n",
    "\n",
    "    # Calculate F1 score for each threshold (handle division by zero)\n",
    "    # Note: thresholds array is one element shorter than precision/recall\n",
    "    f1_scores = np.zeros_like(thresholds)\n",
    "    # Use precision/recall values corresponding to this threshold\n",
    "    # Need to use i for precision/recall because they have one more element\n",
    "    # Avoid division by zero\n",
    "    f1_scores = 2 * (precision[:-1] * recall[:-1]) / (precision[:-1] + recall[:-1] + 1e-9) # Add epsilon for stability\n",
    "\n",
    "\n",
    "    # Find the threshold that maximizes F1 score\n",
    "    best_f1_idx = np.argmax(f1_scores)\n",
    "    optimal_threshold = thresholds[best_f1_idx]\n",
    "    best_f1_score = f1_scores[best_f1_idx]\n",
    "\n",
    "    print(f\"\\nOptimal threshold based on validation F1 score: {optimal_threshold:.4f}\")\n",
    "    print(f\"Best F1 score on validation set: {best_f1_score:.4f}\")\n",
    "\n",
    "    # --- Plot Precision-Recall Curve and F1 vs Threshold ---\n",
    "    plt.figure(figsize=(12, 5))\n",
    "\n",
    "    # Plot F1 vs Threshold\n",
    "    plt.subplot(1, 2, 1)\n",
    "    plt.plot(thresholds, f1_scores, label='F1 Score')\n",
    "    plt.scatter(optimal_threshold, best_f1_score, marker='o', color='red', label=f'Optimal Threshold ({optimal_threshold:.4f})')\n",
    "    plt.xlabel(\"Threshold\")\n",
    "    plt.ylabel(\"F1 Score\")\n",
    "    plt.title(\"F1 Score vs. Threshold (Validation Set)\")\n",
    "    plt.grid(True)\n",
    "    plt.legend()\n",
    "\n",
    "    # Plot Precision-Recall Curve\n",
    "    plt.subplot(1, 2, 2)\n",
    "    plt.plot(recall[:-1], precision[:-1], label='Precision-Recall Curve') # Exclude last point as per sklearn docs\n",
    "    plt.scatter(recall[best_f1_idx], precision[best_f1_idx], marker='o', color='red', label=f'Optimal Point (F1={best_f1_score:.4f})')\n",
    "    plt.xlabel(\"Recall\")\n",
    "    plt.ylabel(\"Precision\")\n",
    "    plt.title(\"Precision-Recall Curve (Validation Set)\")\n",
    "    plt.grid(True)\n",
    "    plt.legend()\n",
    "\n",
    "    plt.tight_layout()\n",
    "    plt.show()\n",
    "\n",
    "    # --- Save the optimal threshold ---\n",
    "    # Save inside the specific experiment directory\n",
    "    exp_dir = BASE_DIR / \"experiments\" / str(experiment_id)\n",
    "    threshold_save_path = exp_dir / \"optimal_threshold.txt\" # Consistent filename\n",
    "    try:\n",
    "        # Ensure the experiment directory exists (it should, but double-check)\n",
    "        os.makedirs(exp_dir, exist_ok=True)\n",
    "        with open(threshold_save_path, 'w') as f:\n",
    "            f.write(str(optimal_threshold))\n",
    "        print(f\"Optimal threshold saved to: {threshold_save_path}\")\n",
    "    except Exception as e:\n",
    "        print(f\"Error saving optimal threshold: {e}\")\n",
    "\n",
    "else:\n",
    "    print(\"\\nNo positive samples found in the validation set. Cannot determine optimal threshold or plot curves.\")\n",
    "    optimal_threshold = 0.5 # Default to 0.5 if no positives\n",
    "    print(\"Defaulting threshold to 0.5 for evaluation script.\")\n",
    "     # --- Save the default threshold ---\n",
    "    # Save inside the specific experiment directory\n",
    "    exp_dir = BASE_DIR / \"experiments\" / str(experiment_id)\n",
    "    threshold_save_path = exp_dir / \"optimal_threshold.txt\" # Consistent filename\n",
    "    try:\n",
    "        # Ensure the experiment directory exists (it should, but double-check)\n",
    "        os.makedirs(exp_dir, exist_ok=True)\n",
    "        with open(threshold_save_path, 'w') as f:\n",
    "            f.write(str(optimal_threshold))\n",
    "        print(f\"Default threshold (0.5) saved to: {threshold_save_path}\")\n",
    "    except Exception as e:\n",
    "        print(f\"Error saving default threshold: {e}\")\n",
    "\n",
    "\n"
   ]
  },
  {
   "cell_type": "markdown",
   "metadata": {},
   "source": [
    "## 7. Evaluation & Metrics <a id='evaluation'></a>\n",
    "\n",
    "Evaluate the trained model on the test set and display key metrics."
   ]
  },
  {
   "cell_type": "code",
   "execution_count": 10,
   "metadata": {},
   "outputs": [
    {
     "name": "stdout",
     "output_type": "stream",
     "text": [
      "[Evaluation] Using experiment_id: 6\n",
      "[Evaluation] Using specified experiment_id: 6\n",
      "[Evaluation] Loaded optimal threshold: 0.0854 from d:\\Projets\\New_soneb_work\\experiments\\6\\optimal_threshold.txt\n"
     ]
    },
    {
     "name": "stderr",
     "output_type": "stream",
     "text": [
      "Processing...\n",
      "Done!\n"
     ]
    },
    {
     "name": "stdout",
     "output_type": "stream",
     "text": [
      "Test set evaluation (using threshold=0.0854):\n",
      "AUC-PR: 0.0098\n",
      "F1 (Thresholded): 0.0145\n",
      "Recall (Thresholded): 0.8543\n",
      "Precision (Thresholded): 0.0073\n",
      "MRR: 0.0128\n",
      "[Experiment Management] Results appended to registry and ranking updated for experiment_id: 6\n",
      "Hits@1: 0.0000\n",
      "Hits@3: 0.0000\n",
      "Hits@5: 0.0000\n",
      "FPR: 0.8149\n",
      "Saved detailed predictions to d:\\Projets\\New_soneb_work\\experiments\\6\\6_test_predictions.csv\n"
     ]
    }
   ],
   "source": [
    "from src.experiment_utils import get_last_experiment_id\n",
    "from src import evaluate\n",
    "\n",
    "# Evaluate and save predictions for the default fold (or specify fold number)\n",
    "    # Get the ID of the experiment that was just run (presumably)\n",
    "experiment_id = get_last_experiment_id()\n",
    "print(f\"[Evaluation] Using experiment_id: {experiment_id}\")\n",
    "\n",
    "evaluate.evaluate_and_save_predictions(experiment_id_to_eval=experiment_id) # Use the optimal threshold"
   ]
  },
  {
   "cell_type": "code",
   "execution_count": 11,
   "metadata": {},
   "outputs": [
    {
     "name": "stdout",
     "output_type": "stream",
     "text": [
      "Loaded test predictions from: d:\\Projets\\New_soneb_work\\experiments\\6\\6_test_predictions.csv\n",
      "Using optimal threshold: 0.0854\n"
     ]
    },
    {
     "data": {
      "image/png": "[encoded data removed]",
      "text/plain": [
       "<Figure size 600x500 with 2 Axes>"
      ]
     },
     "metadata": {},
     "output_type": "display_data"
    }
   ],
   "source": [
    "# --- Confusion Matrix for Test Set ---\n",
    "import pandas as pd\n",
    "import numpy as np\n",
    "from sklearn.metrics import confusion_matrix\n",
    "import seaborn as sns\n",
    "import matplotlib.pyplot as plt\n",
    "from pathlib import Path\n",
    "import os\n",
    "from src import paths # Import paths module\n",
    "\n",
    "# Get experiment ID (assuming it's already defined from previous cell or loaded again)\n",
    "if 'experiment_id' not in locals() or experiment_id is None:\n",
    "    experiment_id_file = BASE_DIR / \"experiments\" / \"experiment_id.txt\"\n",
    "    try:\n",
    "        with open(experiment_id_file) as f:\n",
    "            experiment_id = int(f.read().strip())\n",
    "        print(f\"[Confusion Matrix] Using latest experiment ID: {experiment_id}\")\n",
    "    except FileNotFoundError:\n",
    "         raise FileNotFoundError(f\"[Confusion Matrix] Experiment ID file not found at {experiment_id_file}. Cannot proceed.\")\n",
    "    except ValueError:\n",
    "         raise ValueError(f\"[Confusion Matrix] Could not read experiment ID from {experiment_id_file}. Cannot proceed.\")\n",
    "\n",
    "# Define paths using src.paths for consistency\n",
    "exp_dir = BASE_DIR / \"experiments\" / str(experiment_id)\n",
    "predictions_file = paths.predictions_path(experiment_id=experiment_id) # Use function from paths.py\n",
    "threshold_file = paths.optimal_threshold_path(experiment_id=experiment_id) # Use function from paths.py\n",
    "\n",
    "# Load predictions\n",
    "if not os.path.exists(predictions_file):\n",
    "    raise FileNotFoundError(f\"Test predictions file not found: {predictions_file}\")\n",
    "df_preds = pd.read_csv(predictions_file)\n",
    "print(f\"Loaded test predictions from: {predictions_file}\")\n",
    "\n",
    "# Load optimal threshold\n",
    "optimal_threshold = 0.5 # Default\n",
    "if not os.path.exists(threshold_file):\n",
    "    print(f\"[Warning] Optimal threshold file not found: {threshold_file}. Using default 0.5 for confusion matrix.\")\n",
    "else:\n",
    "    try:\n",
    "        with open(threshold_file, 'r') as f:\n",
    "            optimal_threshold = float(f.read().strip())\n",
    "        print(f\"Using optimal threshold: {optimal_threshold:.4f}\")\n",
    "    except Exception as e:\n",
    "        print(f\"[Warning] Error reading threshold file {threshold_file}: {e}. Using default 0.5.\")\n",
    "\n",
    "# Calculate binary predictions\n",
    "y_true_test = df_preds['y_true'].values\n",
    "y_score_test = df_preds['y_score_prob'].values\n",
    "y_pred_test = (y_score_test > optimal_threshold).astype(int)\n",
    "\n",
    "# Calculate confusion matrix\n",
    "cm = confusion_matrix(y_true_test, y_pred_test)\n",
    "\n",
    "# Plot confusion matrix\n",
    "plt.figure(figsize=(6, 5))\n",
    "sns.heatmap(cm, annot=True, fmt='d', cmap='Blues', \n",
    "            xticklabels=['Predicted No Leak', 'Predicted Leak'], \n",
    "            yticklabels=['Actual No Leak', 'Actual Leak'])\n",
    "plt.title(f'Confusion Matrix (Test Set - Exp {experiment_id}, Threshold={optimal_threshold:.4f})')\n",
    "plt.ylabel('Actual Label')\n",
    "plt.xlabel('Predicted Label')\n",
    "plt.show()"
   ]
  },
  {
   "cell_type": "markdown",
   "metadata": {},
   "source": [
    "## 8. Experiment Management <a id='experiments'></a>\n",
    "\n",
    "Experiments are tracked in a registry and ranked by metrics. You can inspect the registry as follows:"
   ]
  },
  {
   "cell_type": "code",
   "execution_count": 12,
   "metadata": {},
   "outputs": [
    {
     "data": {
      "text/html": [
       "<div>\n",
       "<style scoped>\n",
       "    .dataframe tbody tr th:only-of-type {\n",
       "        vertical-align: middle;\n",
       "    }\n",
       "\n",
       "    .dataframe tbody tr th {\n",
       "        vertical-align: top;\n",
       "    }\n",
       "\n",
       "    .dataframe thead th {\n",
       "        text-align: right;\n",
       "    }\n",
       "</style>\n",
       "<table border=\"1\" class=\"dataframe\">\n",
       "  <thead>\n",
       "    <tr style=\"text-align: right;\">\n",
       "      <th></th>\n",
       "      <th>experiment_id</th>\n",
       "      <th>date</th>\n",
       "      <th>model_type</th>\n",
       "      <th>data_dir</th>\n",
       "      <th>node_in_dim</th>\n",
       "      <th>edge_in_dim</th>\n",
       "      <th>hidden_dim</th>\n",
       "      <th>num_layers</th>\n",
       "      <th>gnn_type</th>\n",
       "      <th>mlp_hidden_dim</th>\n",
       "      <th>...</th>\n",
       "      <th>notes</th>\n",
       "      <th>AUC-PR</th>\n",
       "      <th>F1</th>\n",
       "      <th>recall</th>\n",
       "      <th>precision</th>\n",
       "      <th>mrr</th>\n",
       "      <th>hits@1</th>\n",
       "      <th>hits@3</th>\n",
       "      <th>hits@5</th>\n",
       "      <th>optimal_threshold</th>\n",
       "    </tr>\n",
       "  </thead>\n",
       "  <tbody>\n",
       "    <tr>\n",
       "      <th>2</th>\n",
       "      <td>3</td>\n",
       "      <td>2025-04-16 12:20:04</td>\n",
       "      <td>WDNLeakGNN</td>\n",
       "      <td>d:\\Projets\\New_soneb_work\\data</td>\n",
       "      <td>26</td>\n",
       "      <td>4</td>\n",
       "      <td>128</td>\n",
       "      <td>3</td>\n",
       "      <td>gine</td>\n",
       "      <td>128</td>\n",
       "      <td>...</td>\n",
       "      <td>Thresholded metrics (F1, Recall, Precision) ca...</td>\n",
       "      <td>0.009598</td>\n",
       "      <td>0.013972</td>\n",
       "      <td>0.798995</td>\n",
       "      <td>0.007048</td>\n",
       "      <td>0.008130</td>\n",
       "      <td>0</td>\n",
       "      <td>0</td>\n",
       "      <td>0</td>\n",
       "      <td>0.280497</td>\n",
       "    </tr>\n",
       "    <tr>\n",
       "      <th>3</th>\n",
       "      <td>2</td>\n",
       "      <td>2025-04-16 12:31:21</td>\n",
       "      <td>WDNLeakGNN</td>\n",
       "      <td>D:\\Projets\\New_soneb_work\\data</td>\n",
       "      <td>26</td>\n",
       "      <td>4</td>\n",
       "      <td>128</td>\n",
       "      <td>3</td>\n",
       "      <td>gine</td>\n",
       "      <td>128</td>\n",
       "      <td>...</td>\n",
       "      <td>Thresholded metrics (F1, Recall, Precision) ca...</td>\n",
       "      <td>0.009598</td>\n",
       "      <td>0.013972</td>\n",
       "      <td>0.798995</td>\n",
       "      <td>0.007048</td>\n",
       "      <td>0.008130</td>\n",
       "      <td>0</td>\n",
       "      <td>0</td>\n",
       "      <td>0</td>\n",
       "      <td>0.280497</td>\n",
       "    </tr>\n",
       "    <tr>\n",
       "      <th>4</th>\n",
       "      <td>4</td>\n",
       "      <td>2025-04-16 12:50:28</td>\n",
       "      <td>WDNLeakGNN</td>\n",
       "      <td>d:\\Projets\\New_soneb_work\\data</td>\n",
       "      <td>26</td>\n",
       "      <td>4</td>\n",
       "      <td>128</td>\n",
       "      <td>3</td>\n",
       "      <td>gine</td>\n",
       "      <td>128</td>\n",
       "      <td>...</td>\n",
       "      <td>Thresholded metrics (F1, Recall, Precision) ca...</td>\n",
       "      <td>0.009355</td>\n",
       "      <td>0.009112</td>\n",
       "      <td>0.010050</td>\n",
       "      <td>0.008333</td>\n",
       "      <td>0.026316</td>\n",
       "      <td>0</td>\n",
       "      <td>0</td>\n",
       "      <td>0</td>\n",
       "      <td>0.207058</td>\n",
       "    </tr>\n",
       "    <tr>\n",
       "      <th>5</th>\n",
       "      <td>5</td>\n",
       "      <td>2025-04-16 13:01:32</td>\n",
       "      <td>WDNLeakGNN</td>\n",
       "      <td>d:\\Projets\\New_soneb_work\\data</td>\n",
       "      <td>26</td>\n",
       "      <td>4</td>\n",
       "      <td>128</td>\n",
       "      <td>3</td>\n",
       "      <td>gine</td>\n",
       "      <td>128</td>\n",
       "      <td>...</td>\n",
       "      <td>Thresholded metrics (F1, Recall, Precision) ca...</td>\n",
       "      <td>0.008927</td>\n",
       "      <td>0.009112</td>\n",
       "      <td>0.010050</td>\n",
       "      <td>0.008333</td>\n",
       "      <td>0.013333</td>\n",
       "      <td>0</td>\n",
       "      <td>0</td>\n",
       "      <td>0</td>\n",
       "      <td>0.141819</td>\n",
       "    </tr>\n",
       "    <tr>\n",
       "      <th>6</th>\n",
       "      <td>6</td>\n",
       "      <td>2025-04-16 13:19:54</td>\n",
       "      <td>WDNLeakGNN</td>\n",
       "      <td>d:\\Projets\\New_soneb_work\\data</td>\n",
       "      <td>26</td>\n",
       "      <td>4</td>\n",
       "      <td>128</td>\n",
       "      <td>3</td>\n",
       "      <td>gine</td>\n",
       "      <td>128</td>\n",
       "      <td>...</td>\n",
       "      <td>Thresholded metrics (F1, Recall, Precision) ca...</td>\n",
       "      <td>0.009843</td>\n",
       "      <td>0.014481</td>\n",
       "      <td>0.854271</td>\n",
       "      <td>0.007302</td>\n",
       "      <td>0.012821</td>\n",
       "      <td>0</td>\n",
       "      <td>0</td>\n",
       "      <td>0</td>\n",
       "      <td>0.085406</td>\n",
       "    </tr>\n",
       "  </tbody>\n",
       "</table>\n",
       "<p>5 rows × 23 columns</p>\n",
       "</div>"
      ],
      "text/plain": [
       "   experiment_id                 date  model_type  \\\n",
       "2              3  2025-04-16 12:20:04  WDNLeakGNN   \n",
       "3              2  2025-04-16 12:31:21  WDNLeakGNN   \n",
       "4              4  2025-04-16 12:50:28  WDNLeakGNN   \n",
       "5              5  2025-04-16 13:01:32  WDNLeakGNN   \n",
       "6              6  2025-04-16 13:19:54  WDNLeakGNN   \n",
       "\n",
       "                         data_dir  node_in_dim  edge_in_dim  hidden_dim  \\\n",
       "2  d:\\Projets\\New_soneb_work\\data           26            4         128   \n",
       "3  D:\\Projets\\New_soneb_work\\data           26            4         128   \n",
       "4  d:\\Projets\\New_soneb_work\\data           26            4         128   \n",
       "5  d:\\Projets\\New_soneb_work\\data           26            4         128   \n",
       "6  d:\\Projets\\New_soneb_work\\data           26            4         128   \n",
       "\n",
       "   num_layers gnn_type  mlp_hidden_dim  ...  \\\n",
       "2           3     gine             128  ...   \n",
       "3           3     gine             128  ...   \n",
       "4           3     gine             128  ...   \n",
       "5           3     gine             128  ...   \n",
       "6           3     gine             128  ...   \n",
       "\n",
       "                                               notes    AUC-PR        F1  \\\n",
       "2  Thresholded metrics (F1, Recall, Precision) ca...  0.009598  0.013972   \n",
       "3  Thresholded metrics (F1, Recall, Precision) ca...  0.009598  0.013972   \n",
       "4  Thresholded metrics (F1, Recall, Precision) ca...  0.009355  0.009112   \n",
       "5  Thresholded metrics (F1, Recall, Precision) ca...  0.008927  0.009112   \n",
       "6  Thresholded metrics (F1, Recall, Precision) ca...  0.009843  0.014481   \n",
       "\n",
       "     recall  precision       mrr  hits@1  hits@3  hits@5  optimal_threshold  \n",
       "2  0.798995   0.007048  0.008130       0       0       0           0.280497  \n",
       "3  0.798995   0.007048  0.008130       0       0       0           0.280497  \n",
       "4  0.010050   0.008333  0.026316       0       0       0           0.207058  \n",
       "5  0.010050   0.008333  0.013333       0       0       0           0.141819  \n",
       "6  0.854271   0.007302  0.012821       0       0       0           0.085406  \n",
       "\n",
       "[5 rows x 23 columns]"
      ]
     },
     "metadata": {},
     "output_type": "display_data"
    }
   ],
   "source": [
    "from src.paths import REGISTRY_PATH\n",
    "\n",
    "if os.path.exists(REGISTRY_PATH):\n",
    "    df = pd.read_csv(REGISTRY_PATH)\n",
    "    display(df.tail())\n",
    "else:\n",
    "    print(\"Experiment registry not found.\")"
   ]
  },
  {
   "cell_type": "markdown",
   "metadata": {},
   "source": [
    "## 9. Top Experiments <a id='top'></a>\n",
    "\n",
    "Show the top experiments by AUC-PR, F1, and recall."
   ]
  },
  {
   "cell_type": "code",
   "execution_count": 13,
   "metadata": {},
   "outputs": [
    {
     "name": "stdout",
     "output_type": "stream",
     "text": [
      "Top 5 Experiments:\n",
      "experiment_id\tdate\tmodel_type\tdata_dir\tnode_in_dim\tedge_in_dim\thidden_dim\tnum_layers\tgnn_type\tmlp_hidden_dim\tdropout\tnorm_type\thyperparameters\tnotes\tAUC-PR\tF1\trecall\tprecision\tmrr\thits@1\thits@3\thits@5\toptimal_threshold\n",
      "6\t2025-04-16 13:19:54\tWDNLeakGNN\td:\\Projets\\New_soneb_work\\data\t26\t4\t128\t3\tgine\t128\t0.3\tlayer\t{\"lr\": null, \"batch_size\": 32, \"gamma\": null, \"weight_decay\": null}\tThresholded metrics (F1, Recall, Precision) calculated using optimal threshold 0.0854 from validation set.\t0.009843080260318517\t0.014481025597342306\t0.8542713567839196\t0.007302405498281787\t0.01282051282051282\t0\t0\t0\t0.08540646\n",
      "3\t2025-04-16 12:20:04\tWDNLeakGNN\td:\\Projets\\New_soneb_work\\data\t26\t4\t128\t3\tgine\t128\t0.3\tlayer\t{\"lr\": null, \"batch_size\": 32, \"gamma\": null, \"weight_decay\": null}\tThresholded metrics (F1, Recall, Precision) calculated using optimal threshold 0.2805 from validation set.\t0.009598034462690787\t0.013972494397820643\t0.7989949748743719\t0.007047872340425532\t0.008130081300813009\t0\t0\t0\t0.2804973\n",
      "2\t2025-04-16 12:31:21\tWDNLeakGNN\tD:\\Projets\\New_soneb_work\\data\t26\t4\t128\t3\tgine\t128\t0.3\tlayer\t{\"lr\": null, \"batch_size\": 32, \"gamma\": null, \"weight_decay\": null}\tThresholded metrics (F1, Recall, Precision) calculated using optimal threshold 0.2805 from validation set.\t0.009598034462690787\t0.013972494397820643\t0.7989949748743719\t0.007047872340425532\t0.008130081300813009\t0\t0\t0\t0.2804973\n",
      "1\t2025-04-16 10:26:50\tWDNLeakGNN\td:\\Projets\\New_soneb_work\\data\t26\t4\t128\t3\tgine\t128\t0.3\tlayer\t{\"lr\": null, \"batch_size\": 32, \"gamma\": null, \"weight_decay\": null}\tThresholded metrics (F1, Recall, Precision) calculated using optimal threshold 0.1021 from validation set.\t0.009598033802976233\t0.0\t0.0\t0.0\t0.008130081300813009\t0\t0\t0\t0.1021\n",
      "2\t2025-04-16 12:01:27\tWDNLeakGNN\td:\\Projets\\New_soneb_work\\data\t26\t4\t128\t3\tgine\t128\t0.3\tlayer\t{\"lr\": null, \"batch_size\": 32, \"gamma\": null, \"weight_decay\": null}\tThresholded metrics (F1, Recall, Precision) calculated using optimal threshold 0.2805 from validation set.\t0.009598033802976233\t0.0\t0.0\t0.0\t0.008130081300813009\t0\t0\t0\t0.2804973\n"
     ]
    }
   ],
   "source": [
    "from src import show_top_experiments\n",
    "\n",
    "show_top_experiments.show_top_experiments(n=5)"
   ]
  },
  {
   "cell_type": "markdown",
   "metadata": {},
   "source": [
    "---\n",
    "## Notes\n",
    "- For advanced usage (cross-validation, ablation studies, etc.), extend the code in `src/` and add new notebook sections as needed.\n",
    "- For troubleshooting, consult the `README.md` and code comments in each module.\n",
    "\n",
    "This notebook is the main entry point for running and analyzing the leak localization pipeline."
   ]
  }
 ],
 "metadata": {
  "kernelspec": {
   "display_name": "Python 3",
   "language": "python",
   "name": "python3"
  },
  "language_info": {
   "codemirror_mode": {
    "name": "ipython",
    "version": 3
   },
   "file_extension": ".py",
   "mimetype": "text/x-python",
   "name": "python",
   "nbconvert_exporter": "python",
   "pygments_lexer": "ipython3",
   "version": "3.12.5"
  }
 },
 "nbformat": 4,
 "nbformat_minor": 2
}
